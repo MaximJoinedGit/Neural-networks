{
 "cells": [
  {
   "cell_type": "markdown",
   "metadata": {
    "id": "vQnDWSn8TEOl",
    "tags": []
   },
   "source": [
    "## Попробуйте изменить параметры нейронной сети, либо нейронной сети, работающей airline-passengers (она прилагается вместе с датасетом к уроку в виде отдельного скрипта) или любым любимым временным рядом так, чтобы улучшить её точность. Приложите анализ"
   ]
  },
  {
   "cell_type": "code",
   "execution_count": 1,
   "metadata": {},
   "outputs": [],
   "source": [
    "import os\n",
    "os.environ['TF_CPP_MIN_LOG_LEVEL'] = '2'"
   ]
  },
  {
   "cell_type": "code",
   "execution_count": 2,
   "metadata": {
    "id": "IOX9KcxcbMNB"
   },
   "outputs": [],
   "source": [
    "%matplotlib inline\n",
    "\n",
    "import datetime\n",
    "import pandas as pd\n",
    "import numpy as np\n",
    "import matplotlib.pyplot as plt\n",
    "\n",
    "from tensorflow.keras import utils\n",
    "import tensorflow.keras as keras\n",
    "from tensorflow.keras.optimizers import Adam\n",
    "from tensorflow.keras.models import Sequential, Model\n",
    "from tensorflow.keras.callbacks import EarlyStopping, TensorBoard\n",
    "from tensorflow.keras.layers import concatenate, Input, Dense, Dropout, BatchNormalization, Flatten, Conv1D, Conv2D, LSTM\n",
    "\n",
    "from sklearn.preprocessing import StandardScaler, MinMaxScaler"
   ]
  },
  {
   "cell_type": "markdown",
   "metadata": {
    "id": "U6Of5-M3nxnM"
   },
   "source": [
    "Считаем данные из файла со значениями количества пассажиров."
   ]
  },
  {
   "cell_type": "code",
   "execution_count": 3,
   "metadata": {
    "id": "FbOkFf_7cgWa"
   },
   "outputs": [],
   "source": [
    "df = pd.read_csv('../Manuals/lesson_5/airline-passengers.csv')\n",
    "df.index = df.Month\n",
    "df.reset_index(drop=True, inplace=True)"
   ]
  },
  {
   "cell_type": "markdown",
   "metadata": {},
   "source": [
    "Посмотрим, что из себя представляют данные датасета."
   ]
  },
  {
   "cell_type": "code",
   "execution_count": 4,
   "metadata": {
    "colab": {
     "base_uri": "https://localhost:8080/",
     "height": 235
    },
    "id": "KmWwmNFkzN9f",
    "outputId": "b06ddc65-192d-441b-b266-07bbd901e313"
   },
   "outputs": [
    {
     "data": {
      "text/html": [
       "<div>\n",
       "<style scoped>\n",
       "    .dataframe tbody tr th:only-of-type {\n",
       "        vertical-align: middle;\n",
       "    }\n",
       "\n",
       "    .dataframe tbody tr th {\n",
       "        vertical-align: top;\n",
       "    }\n",
       "\n",
       "    .dataframe thead th {\n",
       "        text-align: right;\n",
       "    }\n",
       "</style>\n",
       "<table border=\"1\" class=\"dataframe\">\n",
       "  <thead>\n",
       "    <tr style=\"text-align: right;\">\n",
       "      <th></th>\n",
       "      <th>Month</th>\n",
       "      <th>Passengers</th>\n",
       "    </tr>\n",
       "  </thead>\n",
       "  <tbody>\n",
       "    <tr>\n",
       "      <th>0</th>\n",
       "      <td>1949-01</td>\n",
       "      <td>112</td>\n",
       "    </tr>\n",
       "    <tr>\n",
       "      <th>1</th>\n",
       "      <td>1949-02</td>\n",
       "      <td>118</td>\n",
       "    </tr>\n",
       "    <tr>\n",
       "      <th>2</th>\n",
       "      <td>1949-03</td>\n",
       "      <td>132</td>\n",
       "    </tr>\n",
       "  </tbody>\n",
       "</table>\n",
       "</div>"
      ],
      "text/plain": [
       "     Month  Passengers\n",
       "0  1949-01         112\n",
       "1  1949-02         118\n",
       "2  1949-03         132"
      ]
     },
     "execution_count": 4,
     "metadata": {},
     "output_type": "execute_result"
    }
   ],
   "source": [
    "df.head(3)"
   ]
  },
  {
   "cell_type": "code",
   "execution_count": 5,
   "metadata": {
    "colab": {
     "base_uri": "https://localhost:8080/",
     "height": 297
    },
    "id": "vPZuXBqGE9gG",
    "outputId": "90db8792-f5bb-4304-be04-70e8d34150da"
   },
   "outputs": [
    {
     "data": {
      "text/html": [
       "<div>\n",
       "<style scoped>\n",
       "    .dataframe tbody tr th:only-of-type {\n",
       "        vertical-align: middle;\n",
       "    }\n",
       "\n",
       "    .dataframe tbody tr th {\n",
       "        vertical-align: top;\n",
       "    }\n",
       "\n",
       "    .dataframe thead th {\n",
       "        text-align: right;\n",
       "    }\n",
       "</style>\n",
       "<table border=\"1\" class=\"dataframe\">\n",
       "  <thead>\n",
       "    <tr style=\"text-align: right;\">\n",
       "      <th></th>\n",
       "      <th>Passengers</th>\n",
       "    </tr>\n",
       "  </thead>\n",
       "  <tbody>\n",
       "    <tr>\n",
       "      <th>count</th>\n",
       "      <td>144.000000</td>\n",
       "    </tr>\n",
       "    <tr>\n",
       "      <th>mean</th>\n",
       "      <td>280.298611</td>\n",
       "    </tr>\n",
       "    <tr>\n",
       "      <th>std</th>\n",
       "      <td>119.966317</td>\n",
       "    </tr>\n",
       "    <tr>\n",
       "      <th>min</th>\n",
       "      <td>104.000000</td>\n",
       "    </tr>\n",
       "    <tr>\n",
       "      <th>25%</th>\n",
       "      <td>180.000000</td>\n",
       "    </tr>\n",
       "    <tr>\n",
       "      <th>50%</th>\n",
       "      <td>265.500000</td>\n",
       "    </tr>\n",
       "    <tr>\n",
       "      <th>75%</th>\n",
       "      <td>360.500000</td>\n",
       "    </tr>\n",
       "    <tr>\n",
       "      <th>max</th>\n",
       "      <td>622.000000</td>\n",
       "    </tr>\n",
       "  </tbody>\n",
       "</table>\n",
       "</div>"
      ],
      "text/plain": [
       "       Passengers\n",
       "count  144.000000\n",
       "mean   280.298611\n",
       "std    119.966317\n",
       "min    104.000000\n",
       "25%    180.000000\n",
       "50%    265.500000\n",
       "75%    360.500000\n",
       "max    622.000000"
      ]
     },
     "execution_count": 5,
     "metadata": {},
     "output_type": "execute_result"
    }
   ],
   "source": [
    "df.describe()"
   ]
  },
  {
   "cell_type": "code",
   "execution_count": 6,
   "metadata": {
    "colab": {
     "base_uri": "https://localhost:8080/",
     "height": 345
    },
    "id": "zk7Xkqlry6yX",
    "outputId": "f724764d-3588-4d8b-f2b6-ca2f9611e7d1"
   },
   "outputs": [
    {
     "data": {
      "image/png": "[encoded data removed]",
      "text/plain": [
       "<Figure size 1008x432 with 1 Axes>"
      ]
     },
     "metadata": {
      "needs_background": "light"
     },
     "output_type": "display_data"
    }
   ],
   "source": [
    "plt.figure(figsize=(14,6))\n",
    "plt.plot(df['Passengers'], color='Orange')\n",
    "plt.grid()\n",
    "plt.show()"
   ]
  },
  {
   "cell_type": "markdown",
   "metadata": {},
   "source": [
    "Возьмем первые 100 значений для тренировки. Значение колонки Month приведем к числовому порядковому значению месяца."
   ]
  },
  {
   "cell_type": "code",
   "execution_count": 7,
   "metadata": {},
   "outputs": [],
   "source": [
    "df_train = df.iloc[:100, :].copy()\n",
    "\n",
    "df_train.loc[:, 'Month'] = pd.to_datetime(df_train.Month)\n",
    "df_train.loc[:, 'Month'] = df_train.Month.dt.month"
   ]
  },
  {
   "cell_type": "code",
   "execution_count": 8,
   "metadata": {},
   "outputs": [
    {
     "data": {
      "text/html": [
       "<div>\n",
       "<style scoped>\n",
       "    .dataframe tbody tr th:only-of-type {\n",
       "        vertical-align: middle;\n",
       "    }\n",
       "\n",
       "    .dataframe tbody tr th {\n",
       "        vertical-align: top;\n",
       "    }\n",
       "\n",
       "    .dataframe thead th {\n",
       "        text-align: right;\n",
       "    }\n",
       "</style>\n",
       "<table border=\"1\" class=\"dataframe\">\n",
       "  <thead>\n",
       "    <tr style=\"text-align: right;\">\n",
       "      <th></th>\n",
       "      <th>Month</th>\n",
       "      <th>Passengers</th>\n",
       "    </tr>\n",
       "  </thead>\n",
       "  <tbody>\n",
       "    <tr>\n",
       "      <th>0</th>\n",
       "      <td>1</td>\n",
       "      <td>112</td>\n",
       "    </tr>\n",
       "    <tr>\n",
       "      <th>1</th>\n",
       "      <td>2</td>\n",
       "      <td>118</td>\n",
       "    </tr>\n",
       "    <tr>\n",
       "      <th>2</th>\n",
       "      <td>3</td>\n",
       "      <td>132</td>\n",
       "    </tr>\n",
       "  </tbody>\n",
       "</table>\n",
       "</div>"
      ],
      "text/plain": [
       "   Month  Passengers\n",
       "0      1         112\n",
       "1      2         118\n",
       "2      3         132"
      ]
     },
     "execution_count": 8,
     "metadata": {},
     "output_type": "execute_result"
    }
   ],
   "source": [
    "df_train.head(3)"
   ]
  },
  {
   "cell_type": "markdown",
   "metadata": {},
   "source": [
    "Разделим выборку на x и y и создадим, подготовим 5 батчей, в каждом на входе будет по 4 значения."
   ]
  },
  {
   "cell_type": "code",
   "execution_count": 9,
   "metadata": {},
   "outputs": [],
   "source": [
    "X_train, y_train = df_train, df_train.Passengers"
   ]
  },
  {
   "cell_type": "code",
   "execution_count": 10,
   "metadata": {},
   "outputs": [],
   "source": [
    "xLEN = 4\n",
    "batch_size = 5\n",
    "\n",
    "train_data = keras.preprocessing.timeseries_dataset_from_array(\n",
    "    X_train.iloc[:-xLEN,:],\n",
    "    y_train[xLEN:],\n",
    "    sequence_length=xLEN,\n",
    "    sampling_rate=1,\n",
    "    batch_size=batch_size\n",
    ")"
   ]
  },
  {
   "cell_type": "code",
   "execution_count": 11,
   "metadata": {},
   "outputs": [],
   "source": [
    "for batch in train_data.take(2):\n",
    "    inputs, targets = batch"
   ]
  },
  {
   "cell_type": "markdown",
   "metadata": {},
   "source": [
    "Теперь займемся тестовой выборкой. Она будет состоять из значений, которые идут после сотого. Проделаем все те же манипуляции, что и с тестовой выборкой."
   ]
  },
  {
   "cell_type": "code",
   "execution_count": 12,
   "metadata": {},
   "outputs": [
    {
     "data": {
      "text/html": [
       "<div>\n",
       "<style scoped>\n",
       "    .dataframe tbody tr th:only-of-type {\n",
       "        vertical-align: middle;\n",
       "    }\n",
       "\n",
       "    .dataframe tbody tr th {\n",
       "        vertical-align: top;\n",
       "    }\n",
       "\n",
       "    .dataframe thead th {\n",
       "        text-align: right;\n",
       "    }\n",
       "</style>\n",
       "<table border=\"1\" class=\"dataframe\">\n",
       "  <thead>\n",
       "    <tr style=\"text-align: right;\">\n",
       "      <th></th>\n",
       "      <th>Month</th>\n",
       "      <th>Passengers</th>\n",
       "    </tr>\n",
       "  </thead>\n",
       "  <tbody>\n",
       "    <tr>\n",
       "      <th>100</th>\n",
       "      <td>5</td>\n",
       "      <td>355</td>\n",
       "    </tr>\n",
       "    <tr>\n",
       "      <th>101</th>\n",
       "      <td>6</td>\n",
       "      <td>422</td>\n",
       "    </tr>\n",
       "    <tr>\n",
       "      <th>102</th>\n",
       "      <td>7</td>\n",
       "      <td>465</td>\n",
       "    </tr>\n",
       "  </tbody>\n",
       "</table>\n",
       "</div>"
      ],
      "text/plain": [
       "     Month  Passengers\n",
       "100      5         355\n",
       "101      6         422\n",
       "102      7         465"
      ]
     },
     "execution_count": 12,
     "metadata": {},
     "output_type": "execute_result"
    }
   ],
   "source": [
    "df_test = df_train = df.iloc[100:, :].copy()\n",
    "df_test.loc[:, 'Month'] = pd.to_datetime(df_test.Month)\n",
    "df_test.loc[:, 'Month'] = df_test.Month.dt.month\n",
    "\n",
    "df_test.head(3)"
   ]
  },
  {
   "cell_type": "code",
   "execution_count": 13,
   "metadata": {},
   "outputs": [],
   "source": [
    "X_test, y_test = df_test, df_test.Passengers"
   ]
  },
  {
   "cell_type": "code",
   "execution_count": 14,
   "metadata": {},
   "outputs": [
    {
     "data": {
      "text/html": [
       "<div>\n",
       "<style scoped>\n",
       "    .dataframe tbody tr th:only-of-type {\n",
       "        vertical-align: middle;\n",
       "    }\n",
       "\n",
       "    .dataframe tbody tr th {\n",
       "        vertical-align: top;\n",
       "    }\n",
       "\n",
       "    .dataframe thead th {\n",
       "        text-align: right;\n",
       "    }\n",
       "</style>\n",
       "<table border=\"1\" class=\"dataframe\">\n",
       "  <thead>\n",
       "    <tr style=\"text-align: right;\">\n",
       "      <th></th>\n",
       "      <th>Month</th>\n",
       "      <th>Passengers</th>\n",
       "    </tr>\n",
       "  </thead>\n",
       "  <tbody>\n",
       "    <tr>\n",
       "      <th>100</th>\n",
       "      <td>5</td>\n",
       "      <td>355</td>\n",
       "    </tr>\n",
       "    <tr>\n",
       "      <th>101</th>\n",
       "      <td>6</td>\n",
       "      <td>422</td>\n",
       "    </tr>\n",
       "    <tr>\n",
       "      <th>102</th>\n",
       "      <td>7</td>\n",
       "      <td>465</td>\n",
       "    </tr>\n",
       "  </tbody>\n",
       "</table>\n",
       "</div>"
      ],
      "text/plain": [
       "     Month  Passengers\n",
       "100      5         355\n",
       "101      6         422\n",
       "102      7         465"
      ]
     },
     "execution_count": 14,
     "metadata": {},
     "output_type": "execute_result"
    }
   ],
   "source": [
    "X_test.head(3)"
   ]
  },
  {
   "cell_type": "markdown",
   "metadata": {},
   "source": [
    "Подготовим данные для обучения и валидации. Для этого возьмем копию тренировочного набора данных."
   ]
  },
  {
   "cell_type": "code",
   "execution_count": 15,
   "metadata": {
    "id": "6cwJqFy2_EYL"
   },
   "outputs": [],
   "source": [
    "data = X_train.copy()"
   ]
  },
  {
   "cell_type": "code",
   "execution_count": 16,
   "metadata": {
    "colab": {
     "base_uri": "https://localhost:8080/",
     "height": 235
    },
    "id": "WDeu5OJJzWeJ",
    "outputId": "0c8819fb-e571-4a0d-e9fe-79fc5067666c"
   },
   "outputs": [
    {
     "data": {
      "text/html": [
       "<div>\n",
       "<style scoped>\n",
       "    .dataframe tbody tr th:only-of-type {\n",
       "        vertical-align: middle;\n",
       "    }\n",
       "\n",
       "    .dataframe tbody tr th {\n",
       "        vertical-align: top;\n",
       "    }\n",
       "\n",
       "    .dataframe thead th {\n",
       "        text-align: right;\n",
       "    }\n",
       "</style>\n",
       "<table border=\"1\" class=\"dataframe\">\n",
       "  <thead>\n",
       "    <tr style=\"text-align: right;\">\n",
       "      <th></th>\n",
       "      <th>Month</th>\n",
       "      <th>Passengers</th>\n",
       "    </tr>\n",
       "  </thead>\n",
       "  <tbody>\n",
       "    <tr>\n",
       "      <th>0</th>\n",
       "      <td>1</td>\n",
       "      <td>112</td>\n",
       "    </tr>\n",
       "    <tr>\n",
       "      <th>1</th>\n",
       "      <td>2</td>\n",
       "      <td>118</td>\n",
       "    </tr>\n",
       "    <tr>\n",
       "      <th>2</th>\n",
       "      <td>3</td>\n",
       "      <td>132</td>\n",
       "    </tr>\n",
       "  </tbody>\n",
       "</table>\n",
       "</div>"
      ],
      "text/plain": [
       "   Month  Passengers\n",
       "0      1         112\n",
       "1      2         118\n",
       "2      3         132"
      ]
     },
     "execution_count": 16,
     "metadata": {},
     "output_type": "execute_result"
    }
   ],
   "source": [
    "data.head(3)"
   ]
  },
  {
   "cell_type": "markdown",
   "metadata": {
    "id": "4914V_ogoUfx"
   },
   "source": [
    "Нормализуем данные."
   ]
  },
  {
   "cell_type": "code",
   "execution_count": 17,
   "metadata": {
    "id": "msyvvpcKcOSg"
   },
   "outputs": [],
   "source": [
    "val_split = 20\n",
    "scaler = StandardScaler()\n",
    "data_v = scaler.fit(data[:val_split])\n",
    " \n",
    "data_f = pd.DataFrame(scaler.transform(data))"
   ]
  },
  {
   "cell_type": "code",
   "execution_count": 18,
   "metadata": {},
   "outputs": [
    {
     "data": {
      "text/html": [
       "<div>\n",
       "<style scoped>\n",
       "    .dataframe tbody tr th:only-of-type {\n",
       "        vertical-align: middle;\n",
       "    }\n",
       "\n",
       "    .dataframe tbody tr th {\n",
       "        vertical-align: top;\n",
       "    }\n",
       "\n",
       "    .dataframe thead th {\n",
       "        text-align: right;\n",
       "    }\n",
       "</style>\n",
       "<table border=\"1\" class=\"dataframe\">\n",
       "  <thead>\n",
       "    <tr style=\"text-align: right;\">\n",
       "      <th></th>\n",
       "      <th>0</th>\n",
       "      <th>1</th>\n",
       "    </tr>\n",
       "  </thead>\n",
       "  <tbody>\n",
       "    <tr>\n",
       "      <th>0</th>\n",
       "      <td>-1.470906</td>\n",
       "      <td>-1.181840</td>\n",
       "    </tr>\n",
       "    <tr>\n",
       "      <th>1</th>\n",
       "      <td>-1.157947</td>\n",
       "      <td>-0.836777</td>\n",
       "    </tr>\n",
       "    <tr>\n",
       "      <th>2</th>\n",
       "      <td>-0.844989</td>\n",
       "      <td>-0.031631</td>\n",
       "    </tr>\n",
       "  </tbody>\n",
       "</table>\n",
       "</div>"
      ],
      "text/plain": [
       "          0         1\n",
       "0 -1.470906 -1.181840\n",
       "1 -1.157947 -0.836777\n",
       "2 -0.844989 -0.031631"
      ]
     },
     "execution_count": 18,
     "metadata": {},
     "output_type": "execute_result"
    }
   ],
   "source": [
    "data_f.head(3)"
   ]
  },
  {
   "cell_type": "markdown",
   "metadata": {
    "id": "9P9FRGLBox8U"
   },
   "source": [
    "Создаем данные для обучения."
   ]
  },
  {
   "cell_type": "code",
   "execution_count": 19,
   "metadata": {},
   "outputs": [],
   "source": [
    "# признаки для обучения (колонки)\n",
    "channelIndexes = [0, 1]\n",
    "\n",
    "# сколько точек для теста\n",
    "valLen = 20\n",
    "\n",
    "# смещение от тренировок\n",
    "bias = 3"
   ]
  },
  {
   "cell_type": "code",
   "execution_count": 20,
   "metadata": {
    "id": "PA5Rbu7iZqw5"
   },
   "outputs": [],
   "source": [
    "# вычислим точку разделения ряда на тесты и тренировку\n",
    "train_split = data_f.shape[0] - valLen - bias\n",
    "train_split\n",
    "\n",
    "# разделим выборку на тренировочную и валидационную\n",
    "train_data = data_f.iloc[:train_split, channelIndexes]\n",
    "val_data = data_f.iloc[train_split+bias:, channelIndexes]"
   ]
  },
  {
   "cell_type": "code",
   "execution_count": 21,
   "metadata": {
    "colab": {
     "base_uri": "https://localhost:8080/",
     "height": 266
    },
    "id": "eXgegTh9bb_m",
    "outputId": "5bc6cd72-f71c-4f5e-eabb-27f3393d670f"
   },
   "outputs": [
    {
     "data": {
      "text/html": [
       "<div>\n",
       "<style scoped>\n",
       "    .dataframe tbody tr th:only-of-type {\n",
       "        vertical-align: middle;\n",
       "    }\n",
       "\n",
       "    .dataframe tbody tr th {\n",
       "        vertical-align: top;\n",
       "    }\n",
       "\n",
       "    .dataframe thead th {\n",
       "        text-align: right;\n",
       "    }\n",
       "</style>\n",
       "<table border=\"1\" class=\"dataframe\">\n",
       "  <thead>\n",
       "    <tr style=\"text-align: right;\">\n",
       "      <th></th>\n",
       "      <th>0</th>\n",
       "      <th>1</th>\n",
       "    </tr>\n",
       "  </thead>\n",
       "  <tbody>\n",
       "    <tr>\n",
       "      <th>0</th>\n",
       "      <td>-1.470906</td>\n",
       "      <td>-1.181840</td>\n",
       "    </tr>\n",
       "    <tr>\n",
       "      <th>1</th>\n",
       "      <td>-1.157947</td>\n",
       "      <td>-0.836777</td>\n",
       "    </tr>\n",
       "    <tr>\n",
       "      <th>2</th>\n",
       "      <td>-0.844989</td>\n",
       "      <td>-0.031631</td>\n",
       "    </tr>\n",
       "  </tbody>\n",
       "</table>\n",
       "</div>"
      ],
      "text/plain": [
       "          0         1\n",
       "0 -1.470906 -1.181840\n",
       "1 -1.157947 -0.836777\n",
       "2 -0.844989 -0.031631"
      ]
     },
     "execution_count": 21,
     "metadata": {},
     "output_type": "execute_result"
    }
   ],
   "source": [
    "train_data.head(3)"
   ]
  },
  {
   "cell_type": "code",
   "execution_count": 22,
   "metadata": {},
   "outputs": [
    {
     "data": {
      "text/html": [
       "<div>\n",
       "<style scoped>\n",
       "    .dataframe tbody tr th:only-of-type {\n",
       "        vertical-align: middle;\n",
       "    }\n",
       "\n",
       "    .dataframe tbody tr th {\n",
       "        vertical-align: top;\n",
       "    }\n",
       "\n",
       "    .dataframe thead th {\n",
       "        text-align: right;\n",
       "    }\n",
       "</style>\n",
       "<table border=\"1\" class=\"dataframe\">\n",
       "  <thead>\n",
       "    <tr style=\"text-align: right;\">\n",
       "      <th></th>\n",
       "      <th>0</th>\n",
       "      <th>1</th>\n",
       "    </tr>\n",
       "  </thead>\n",
       "  <tbody>\n",
       "    <tr>\n",
       "      <th>80</th>\n",
       "      <td>1.032764</td>\n",
       "      <td>10.320251</td>\n",
       "    </tr>\n",
       "    <tr>\n",
       "      <th>81</th>\n",
       "      <td>1.345723</td>\n",
       "      <td>8.134854</td>\n",
       "    </tr>\n",
       "    <tr>\n",
       "      <th>82</th>\n",
       "      <td>1.658681</td>\n",
       "      <td>6.006967</td>\n",
       "    </tr>\n",
       "  </tbody>\n",
       "</table>\n",
       "</div>"
      ],
      "text/plain": [
       "           0          1\n",
       "80  1.032764  10.320251\n",
       "81  1.345723   8.134854\n",
       "82  1.658681   6.006967"
      ]
     },
     "execution_count": 22,
     "metadata": {},
     "output_type": "execute_result"
    }
   ],
   "source": [
    "val_data.head(3)"
   ]
  },
  {
   "cell_type": "markdown",
   "metadata": {
    "id": "v-SA7Q5ApUBq"
   },
   "source": [
    "Выборки сформированы верно. Как и планировалось, валидация начинается с 80й точки. Теперь сформируем параметры для генерации выборки."
   ]
  },
  {
   "cell_type": "code",
   "execution_count": 23,
   "metadata": {
    "id": "aOvy_z69apsr"
   },
   "outputs": [],
   "source": [
    "# шаг для построения обучающих примеров\n",
    "step = 1\n",
    "\n",
    "# длина данных, на основе которых мы будем учить\n",
    "past = xLEN\n",
    "\n",
    "# горизонт предсказания\n",
    "future = 1\n",
    "h=future\n",
    "\n",
    "# параметры модели для обучения\n",
    "learning_rate = 0.001\n",
    "epochs = 10"
   ]
  },
  {
   "cell_type": "markdown",
   "metadata": {
    "id": "iahymtOkqZwr"
   },
   "source": [
    "Зададим части для обучения и проверки."
   ]
  },
  {
   "cell_type": "code",
   "execution_count": 24,
   "metadata": {
    "id": "25s4AHlvYD3g"
   },
   "outputs": [],
   "source": [
    "Chanel_numb = len(channelIndexes)\n",
    "\n",
    "start = xLEN + future\n",
    "end = start + train_split-1\n",
    "\n",
    "xTrain_df = train_data.iloc[:-future-xLEN+1,:] # сдвиг по времени (закончим чуть раньше)\n",
    "xTrain = xTrain_df[[train_data.columns[i] for i in range(Chanel_numb)]].values\n",
    "yTrain = train_data.iloc[future+xLEN-1:,1].values  # сдвиг по времени (начнем чуть позднее)\n",
    "\n",
    "sequence_length = int(xLEN / step)\n",
    "x_end = len(val_data) - xLEN - future \n",
    "label_start = len(train_data)+bias+xLEN + future +1\n",
    "\n",
    "xVal_df = val_data.iloc[:-future-xLEN+1,:] # сдвиг по времени (закончим чуть раньше)\n",
    "xVal = xVal_df[[val_data.columns[i] for i in range(Chanel_numb)]].values\n",
    "yVal = val_data.iloc[future+xLEN-1:,1].values  # сдвиг по времени (начнем чуть позднее)"
   ]
  },
  {
   "cell_type": "code",
   "execution_count": 25,
   "metadata": {
    "colab": {
     "base_uri": "https://localhost:8080/"
    },
    "id": "ALCr3lKPc3CR",
    "outputId": "293149e2-6ce6-4841-9b54-0d50bf8f8594"
   },
   "outputs": [
    {
     "name": "stdout",
     "output_type": "stream",
     "text": [
      "(73, 2)\n",
      "(73,)\n",
      "(16, 2)\n",
      "(16,)\n"
     ]
    }
   ],
   "source": [
    "print(xTrain.shape)\n",
    "print(yTrain.shape)\n",
    "\n",
    "print(xVal.shape)\n",
    "print(yVal.shape)"
   ]
  },
  {
   "cell_type": "markdown",
   "metadata": {
    "id": "nmNpYUg9qfEb"
   },
   "source": [
    "Посмотрим на результаты на графике."
   ]
  },
  {
   "cell_type": "code",
   "execution_count": 26,
   "metadata": {
    "colab": {
     "base_uri": "https://localhost:8080/",
     "height": 350
    },
    "id": "8KQIT2AfJ87P",
    "outputId": "8ef0eb51-1690-4c8a-b993-d6720b859c78"
   },
   "outputs": [
    {
     "data": {
      "image/png": "[encoded data removed]",
      "text/plain": [
       "<Figure size 1008x432 with 1 Axes>"
      ]
     },
     "metadata": {
      "needs_background": "light"
     },
     "output_type": "display_data"
    }
   ],
   "source": [
    "plt.figure(figsize=(14,6))\n",
    "plt.plot(data_f.index[xLEN:yTrain.shape[0]+xLEN], yTrain[:])\n",
    "plt.plot(data_f.index[yTrain.shape[0]+bias+future+2*xLEN-1:], yVal[:])\n",
    "plt.grid()\n",
    "plt.xlabel('t, month')\n",
    "plt.ylabel('passengers')\n",
    "plt.title('airline')\n",
    "plt.show()"
   ]
  },
  {
   "cell_type": "markdown",
   "metadata": {
    "id": "WOZwUs8Vqh9r"
   },
   "source": [
    "Используем механизм формирования пакетов для обучения."
   ]
  },
  {
   "cell_type": "code",
   "execution_count": 27,
   "metadata": {
    "id": "VhuQwds5dJh7"
   },
   "outputs": [],
   "source": [
    "dataset_train = keras.preprocessing.timeseries_dataset_from_array(\n",
    "    xTrain,\n",
    "    yTrain,\n",
    "    sequence_length=xLEN,\n",
    "    sampling_rate=1,\n",
    "    batch_size=batch_size,\n",
    ")\n",
    "dataset_val = keras.preprocessing.timeseries_dataset_from_array(\n",
    "    xVal,\n",
    "    yVal,\n",
    "    sequence_length=xLEN,\n",
    "    sampling_rate=1,\n",
    "    batch_size=batch_size,\n",
    ")"
   ]
  },
  {
   "cell_type": "code",
   "execution_count": 28,
   "metadata": {},
   "outputs": [],
   "source": [
    "for batch in dataset_val.take(2):\n",
    "    inputs, targets = batch"
   ]
  },
  {
   "cell_type": "code",
   "execution_count": 29,
   "metadata": {
    "colab": {
     "base_uri": "https://localhost:8080/"
    },
    "id": "BZCByXmRgpVQ",
    "outputId": "788f16e6-ab2c-42d2-a696-938677141066"
   },
   "outputs": [
    {
     "name": "stdout",
     "output_type": "stream",
     "text": [
      "Input shape: (5, 4, 2)\n",
      "Target shape: (5,)\n"
     ]
    }
   ],
   "source": [
    "print(\"Input shape:\", inputs.numpy().shape)\n",
    "print(\"Target shape:\", targets.numpy().shape)"
   ]
  },
  {
   "cell_type": "code",
   "execution_count": 30,
   "metadata": {
    "id": "IVraCCPyS-bZ"
   },
   "outputs": [],
   "source": [
    "logdir = os.path.join(\"logs2\", datetime.datetime.now().strftime(\"%Y%m%d-%H%M%S\"))\n",
    "tensorboard_callback = TensorBoard(logdir, histogram_freq=1)"
   ]
  },
  {
   "cell_type": "markdown",
   "metadata": {
    "id": "qE_vmenqkqCp"
   },
   "source": [
    "Создадим сеть:  LSTM слои + Conv1D + Dense слой."
   ]
  },
  {
   "cell_type": "code",
   "execution_count": 31,
   "metadata": {
    "colab": {
     "base_uri": "https://localhost:8080/",
     "height": 605
    },
    "id": "JHXhRpxJg5Fq",
    "outputId": "f163fcf4-70ab-4e6d-ead3-8cac8e6c9678"
   },
   "outputs": [
    {
     "name": "stdout",
     "output_type": "stream",
     "text": [
      "Model: \"sequential\"\n",
      "_________________________________________________________________\n",
      "Layer (type)                 Output Shape              Param #   \n",
      "=================================================================\n",
      "lstm (LSTM)                  (None, 4, 64)             17152     \n",
      "_________________________________________________________________\n",
      "lstm_1 (LSTM)                (None, 4, 64)             33024     \n",
      "_________________________________________________________________\n",
      "conv1d (Conv1D)              (None, 2, 64)             12352     \n",
      "_________________________________________________________________\n",
      "flatten (Flatten)            (None, 128)               0         \n",
      "_________________________________________________________________\n",
      "dense (Dense)                (None, 3)                 387       \n",
      "_________________________________________________________________\n",
      "dense_1 (Dense)              (None, 1)                 4         \n",
      "=================================================================\n",
      "Total params: 62,919\n",
      "Trainable params: 62,919\n",
      "Non-trainable params: 0\n",
      "_________________________________________________________________\n"
     ]
    }
   ],
   "source": [
    "callbaсk = EarlyStopping(monitor='val_mae', patience=5)\n",
    "\n",
    "model = Sequential()\n",
    "\n",
    "model.add(LSTM(64, input_shape = (inputs.shape[1], inputs.shape[2]), return_sequences=\"True\"))\n",
    "model.add(LSTM(64, return_sequences=\"True\"))\n",
    "\n",
    "model.add(Conv1D(64, 3, activation=\"linear\"))\n",
    "\n",
    "model.add(Flatten())\n",
    "\n",
    "model.add(Dense(3, activation=\"linear\"))\n",
    "model.add(Dense(1, activation=\"linear\"))\n",
    "\n",
    "model.compile(loss=\"mse\", optimizer=\"adam\", metrics=['mae'])\n",
    "\n",
    "model.summary()"
   ]
  },
  {
   "cell_type": "code",
   "execution_count": 32,
   "metadata": {},
   "outputs": [
    {
     "data": {
      "image/png": "[encoded data removed]",
      "text/plain": [
       "<Figure size 1008x360 with 1 Axes>"
      ]
     },
     "metadata": {
      "needs_background": "light"
     },
     "output_type": "display_data"
    }
   ],
   "source": [
    "history = model.fit(\n",
    "    dataset_train,\n",
    "    epochs=epochs,\n",
    "    validation_data=dataset_val,\n",
    "    verbose=0\n",
    ")\n",
    "\n",
    "plt.figure(figsize=(14, 5))\n",
    "\n",
    "plt.plot(history.history['mae'][1:], label='Средняя абсолютная ошибка на обучающем наборе')\n",
    "plt.plot(history.history['val_mae'][1:], label='Средняя абсолютная ошибка на проверочном наборе')\n",
    "\n",
    "plt.ylabel('Средняя ошибка')\n",
    "plt.legend()\n",
    "plt.grid()\n",
    "\n",
    "plt.show()"
   ]
  },
  {
   "cell_type": "code",
   "execution_count": 33,
   "metadata": {
    "id": "cFOlgPE_SEli"
   },
   "outputs": [],
   "source": [
    "hist_val = history.history['val_mae']\n",
    "hist_train = history.history['mae']"
   ]
  },
  {
   "cell_type": "code",
   "execution_count": 34,
   "metadata": {
    "colab": {
     "base_uri": "https://localhost:8080/",
     "height": 605
    },
    "id": "QGZPB4DySC-g",
    "outputId": "c93ae0ee-48a9-4111-c1ac-148fd0ef1cd0"
   },
   "outputs": [
    {
     "data": {
      "image/png": "[encoded data removed]",
      "text/plain": [
       "<Figure size 1008x360 with 1 Axes>"
      ]
     },
     "metadata": {
      "needs_background": "light"
     },
     "output_type": "display_data"
    }
   ],
   "source": [
    "history = model.fit(\n",
    "    dataset_train,\n",
    "    epochs=epochs,\n",
    "    validation_data=dataset_val,\n",
    "    verbose=0\n",
    ")\n",
    "\n",
    "hist_val.extend(history.history['val_mae'][:])\n",
    "hist_train.extend(history.history['mae'][:])\n",
    "\n",
    "plt.figure(figsize=(14, 5))\n",
    "\n",
    "plt.plot(hist_train[1:], label='Средняя абсолютная ошибка на обучающем наборе')\n",
    "plt.plot(hist_val[1:], label='Средняя абсолютная ошибка на проверочном наборе')\n",
    "\n",
    "plt.ylabel('Средняя ошибка')\n",
    "plt.legend()\n",
    "plt.grid()\n",
    "\n",
    "plt.show()"
   ]
  },
  {
   "cell_type": "markdown",
   "metadata": {
    "id": "sTVYH8bynCXK"
   },
   "source": [
    "Проверяем результаты:\n",
    "\n",
    "- строим предсказание\n",
    "- рисуем прогноз для тестовой части \n",
    "- рисуем прогноз по тренировочной части"
   ]
  },
  {
   "cell_type": "code",
   "execution_count": 35,
   "metadata": {
    "id": "wuKT4O2WjZiQ"
   },
   "outputs": [],
   "source": [
    "pred = model.predict(dataset_train).flatten()\n",
    "predVal = model.predict(dataset_val).flatten()"
   ]
  },
  {
   "cell_type": "code",
   "execution_count": 36,
   "metadata": {},
   "outputs": [
    {
     "data": {
      "text/plain": [
       "((16,), (13,))"
      ]
     },
     "execution_count": 36,
     "metadata": {},
     "output_type": "execute_result"
    }
   ],
   "source": [
    "yVal.shape, predVal.shape"
   ]
  },
  {
   "cell_type": "markdown",
   "metadata": {
    "id": "IUpfiwfKGVhj"
   },
   "source": [
    "Валидация:"
   ]
  },
  {
   "cell_type": "code",
   "execution_count": 37,
   "metadata": {
    "colab": {
     "base_uri": "https://localhost:8080/",
     "height": 334
    },
    "id": "pdX1EKOo0VMU",
    "outputId": "73a2294d-e25f-4b5b-b628-dbebd21b7467"
   },
   "outputs": [
    {
     "data": {
      "image/png": "[encoded data removed]",
      "text/plain": [
       "<Figure size 1008x360 with 1 Axes>"
      ]
     },
     "metadata": {
      "needs_background": "light"
     },
     "output_type": "display_data"
    }
   ],
   "source": [
    "start = 1\n",
    "step = 2\n",
    "\n",
    "plt.figure(figsize=(14, 5))\n",
    "\n",
    "plt.plot(predVal[start:start+step], label='Прогноз')\n",
    "plt.plot(yVal.flatten()[start:start+step], label='Базовый ряд')\n",
    "\n",
    "plt.xlabel('Время')\n",
    "plt.ylabel('Значение ')\n",
    "\n",
    "plt.grid()\n",
    "plt.legend()\n",
    "plt.show()"
   ]
  },
  {
   "cell_type": "markdown",
   "metadata": {
    "id": "t5_g11N-GZdD"
   },
   "source": [
    "Тренировочные даннные:"
   ]
  },
  {
   "cell_type": "code",
   "execution_count": 38,
   "metadata": {
    "colab": {
     "base_uri": "https://localhost:8080/",
     "height": 334
    },
    "id": "O0EVYFpTluiY",
    "outputId": "9ff51581-2506-4bf3-fb95-091d7790e9d9"
   },
   "outputs": [
    {
     "data": {
      "image/png": "[encoded data removed]",
      "text/plain": [
       "<Figure size 1008x360 with 1 Axes>"
      ]
     },
     "metadata": {
      "needs_background": "light"
     },
     "output_type": "display_data"
    }
   ],
   "source": [
    "start = 0\n",
    "\n",
    "plt.figure(figsize=(14,5))\n",
    "\n",
    "plt.plot(pred[start:train_split], label='Прогноз')\n",
    "plt.plot(yTrain.flatten()[start:train_split], label='Базовый ряд')\n",
    "\n",
    "plt.xlabel('Время')\n",
    "plt.ylabel('Значение Close')\n",
    "\n",
    "plt.grid()\n",
    "plt.legend()\n",
    "plt.show()"
   ]
  },
  {
   "cell_type": "markdown",
   "metadata": {
    "id": "U3gW5SKunYaC"
   },
   "source": [
    "Проверяем качество модели:\n",
    "- оценим по лаговой корреляции рядов a, b;\n",
    "- если наибольшая корреляция с лагом 0, то отлично;\n",
    "- есди максимум корреляциии на лаге , равном глубине прогноза, то тривиальное предсказание (завтра, как сегодня).\n"
   ]
  },
  {
   "cell_type": "code",
   "execution_count": 39,
   "metadata": {
    "id": "0fB0f5GncVkc"
   },
   "outputs": [],
   "source": [
    "def correlate(a, b):\n",
    "    ma = a.mean()\n",
    "    mb = b.mean()\n",
    "    mab = (a*b).mean()\n",
    "    sa = a.std()\n",
    "    sb = b.std()\n",
    "  \n",
    "    val = 0\n",
    "    if ((sa>0) & (sb>0)):\n",
    "        val = (mab-ma*mb)/(sa*sb)\n",
    "    return val"
   ]
  },
  {
   "cell_type": "code",
   "execution_count": 40,
   "metadata": {},
   "outputs": [],
   "source": [
    "start = 1\n",
    "step = 3"
   ]
  },
  {
   "cell_type": "code",
   "execution_count": 41,
   "metadata": {
    "colab": {
     "base_uri": "https://localhost:8080/",
     "height": 279
    },
    "id": "HbW-tefen8Qz",
    "outputId": "225d792b-c652-4657-ff57-8d91e64cbc74"
   },
   "outputs": [
    {
     "data": {
      "image/png": "[encoded data removed]",
      "text/plain": [
       "<Figure size 1008x360 with 1 Axes>"
      ]
     },
     "metadata": {
      "needs_background": "light"
     },
     "output_type": "display_data"
    }
   ],
   "source": [
    "corr = []\n",
    "h = 0\n",
    "yLen = yVal.shape[0]\n",
    "yValF = yVal[start:start+step].flatten() # ряд истиных значений\n",
    "yPredVal = predVal[start:start+step] # ряд предсказаний \n",
    "\n",
    "# смотрим лаговые корреляции yValF[:-i], yPredVal[i:] для лагов от 0 до 5\n",
    "for i in range(step-1):\n",
    "    corr.append(correlate(yValF[:-1-i], yPredVal[i:-1]))\n",
    "\n",
    "plt.figure(figsize=(14, 5))\n",
    "plt.plot(corr, label='Корреляция')\n",
    "plt.xlabel('лаговое расстояние между рядами')\n",
    "plt.ylabel('Значение корреляции')\n",
    "\n",
    "plt.grid()\n",
    "plt.legend()\n",
    "plt.show()"
   ]
  },
  {
   "cell_type": "markdown",
   "metadata": {},
   "source": [
    "## Попробуйте изменить параметры нейронной сети, генерирующей текст таким образом, чтобы добиться генерации как можно более осмысленного текста. Пришлите лучший текст из получившихся и опишите предпринятые для его получения действия. Можно использовать текст другого произведения"
   ]
  },
  {
   "cell_type": "code",
   "execution_count": 42,
   "metadata": {},
   "outputs": [],
   "source": [
    "from tensorflow.keras.preprocessing.text import Tokenizer\n",
    "from tensorflow.keras.preprocessing.sequence import pad_sequences\n",
    "import tensorflow.keras.utils as ku \n",
    "from tensorflow.keras.layers import Embedding\n",
    "from tensorflow.keras import regularizers"
   ]
  },
  {
   "cell_type": "markdown",
   "metadata": {
    "id": "xx65KF8YiubY"
   },
   "source": [
    "Разбор текста, токенизация"
   ]
  },
  {
   "cell_type": "code",
   "execution_count": 43,
   "metadata": {
    "colab": {
     "base_uri": "https://localhost:8080/"
    },
    "id": "-6b4_D1DUPQV",
    "outputId": "58049054-7eda-4af9-8ca7-2c37b2cb3224"
   },
   "outputs": [],
   "source": [
    "# Создаем объект для токенизапции\n",
    "tokenizer = Tokenizer(\n",
    "                num_words=10000,\n",
    "                filters=\"!\\\"#$%&()*+,-./:;<=>?@[\\\\]^_`{|}~\\t\\n'\",\n",
    "                lower=True, \n",
    "                split=' ',\n",
    ")\n",
    "\n",
    "data = open('../Manuals/lesson_5/alice_in_wonderland.txt').read()\n",
    "\n",
    "#Читаем текст\n",
    "corpus = data.lower().split(\"\\n\")"
   ]
  },
  {
   "cell_type": "code",
   "execution_count": 44,
   "metadata": {
    "colab": {
     "base_uri": "https://localhost:8080/"
    },
    "id": "h8AtaI3FUUXf",
    "outputId": "f8af4934-0699-4284-ffa2-629557658c9e"
   },
   "outputs": [
    {
     "data": {
      "text/plain": [
       "['chapter i. down the rabbit-hole',\n",
       " '',\n",
       " 'alice was beginning to get very tired of sitting by her sister on the',\n",
       " 'bank, and of having nothing to do: once or twice she had peeped into the',\n",
       " 'book her sister was reading, but it had no pictures or conversations in',\n",
       " 'it, ‘and what is the use of a book,’ thought alice ‘without pictures or',\n",
       " 'conversations?’',\n",
       " '',\n",
       " 'so she was considering in her own mind (as well as she could, for the',\n",
       " 'hot day made her feel very sleepy and stupid), whether the pleasure',\n",
       " 'of making a daisy-chain would be worth the trouble of getting up and',\n",
       " 'picking the daisies, when suddenly a white rabbit with pink eyes ran',\n",
       " 'close by her.',\n",
       " '',\n",
       " 'there was nothing so very remarkable in that; nor did alice think it so',\n",
       " 'very much out of the way to hear the rabbit say to itself, ‘oh dear!',\n",
       " 'oh dear! i shall be late!’ (when she thought it over afterwards, it',\n",
       " 'occurred to her that she ought to have wondered at this, but at the time',\n",
       " 'it all seemed quite natural); but when the rabbit actually took a watch',\n",
       " 'out of its waistcoat-pocket, and looked at it, and then hurried on,']"
      ]
     },
     "execution_count": 44,
     "metadata": {},
     "output_type": "execute_result"
    }
   ],
   "source": [
    "corpus[40:60]"
   ]
  },
  {
   "cell_type": "markdown",
   "metadata": {
    "id": "kvj2zIe-jF2D"
   },
   "source": [
    "Выполним токенизацию и кодирование"
   ]
  },
  {
   "cell_type": "code",
   "execution_count": 45,
   "metadata": {
    "id": "PRnDnCW-Z7qv"
   },
   "outputs": [],
   "source": [
    "tokenizer.fit_on_texts( corpus)\n",
    "total_words = len(tokenizer.word_index) + 1\n",
    "\n",
    "# create input sequences using list of tokens\n",
    "input_sequences = []\n",
    "for line in corpus:\n",
    "    token_list = tokenizer.texts_to_sequences([line])[0]\n",
    "    for i in range(1, len(token_list)):\n",
    "        n_gram_sequence = token_list[:i+1]\n",
    "        input_sequences.append(n_gram_sequence)\n",
    "\n",
    "\n",
    "# pad sequences \n",
    "max_sequence_len = max([len(x) for x in input_sequences])\n",
    "input_sequences = np.array(pad_sequences(input_sequences, maxlen=max_sequence_len, padding='pre'))\n",
    "\n",
    "# create predictors and label\n",
    "predictors, label = input_sequences[:,:-1],input_sequences[:,-1]\n",
    "\n",
    "label = ku.to_categorical(label, num_classes=total_words)"
   ]
  },
  {
   "cell_type": "code",
   "execution_count": 46,
   "metadata": {
    "colab": {
     "base_uri": "https://localhost:8080/"
    },
    "id": "LSGhbRqt8tim",
    "outputId": "e61a7304-5ce1-4a06-ff49-2911441f7596"
   },
   "outputs": [
    {
     "data": {
      "text/plain": [
       "[3397, 4, 367, 1307, 3398, 4, 278, 38, 497, 622]"
      ]
     },
     "execution_count": 46,
     "metadata": {},
     "output_type": "execute_result"
    }
   ],
   "source": [
    "token_list"
   ]
  },
  {
   "cell_type": "code",
   "execution_count": 47,
   "metadata": {
    "colab": {
     "base_uri": "https://localhost:8080/"
    },
    "id": "KRj9wFSMhdWQ",
    "outputId": "1c65196f-7f00-48a0-939b-1c95d5725188"
   },
   "outputs": [
    {
     "data": {
      "text/plain": [
       "array([[  0,   0,   0,   0,   0,   0,   0,   0,   0,   0,   0,   0,   0,\n",
       "         22, 444,  31,  24,   1],\n",
       "       [  0,   0,   0,   0,   0,   0,   0,   0,   0,   0,   0,   0,  22,\n",
       "        444,  31,  24,   1, 150],\n",
       "       [  0,   0,   0,   0,   0,   0,   0,   0,   0,   0,   0,  22, 444,\n",
       "         31,  24,   1, 150,   6],\n",
       "       [  0,   0,   0,   0,   0,   0,   0,   0,   0,   0,  22, 444,  31,\n",
       "         24,   1, 150,   6, 707]], dtype=int32)"
      ]
     },
     "execution_count": 47,
     "metadata": {},
     "output_type": "execute_result"
    }
   ],
   "source": [
    "input_sequences[11:15,:]"
   ]
  },
  {
   "cell_type": "code",
   "execution_count": 48,
   "metadata": {
    "colab": {
     "base_uri": "https://localhost:8080/"
    },
    "id": "oEBa1IEtghmP",
    "outputId": "cf140f0f-ef04-4a68-919b-68ef904dae12"
   },
   "outputs": [
    {
     "data": {
      "text/plain": [
       "(28231, 3399)"
      ]
     },
     "execution_count": 48,
     "metadata": {},
     "output_type": "execute_result"
    }
   ],
   "source": [
    "label.shape"
   ]
  },
  {
   "cell_type": "markdown",
   "metadata": {
    "id": "0ZMOORKCjpUU"
   },
   "source": [
    "Создаем нейросеть, зададим критерий останова."
   ]
  },
  {
   "cell_type": "code",
   "execution_count": 49,
   "metadata": {
    "id": "_UgOcPDkVlV8"
   },
   "outputs": [],
   "source": [
    "callback = EarlyStopping(monitor='val_loss', patience=10) # создаем обратный вызов - calback - тут \"Ранний останов\""
   ]
  },
  {
   "cell_type": "code",
   "execution_count": 50,
   "metadata": {
    "colab": {
     "base_uri": "https://localhost:8080/"
    },
    "id": "w9vH8Y59ajYL",
    "outputId": "53257b0e-5753-465c-d450-c17bfd0ff832"
   },
   "outputs": [
    {
     "name": "stdout",
     "output_type": "stream",
     "text": [
      "Model: \"sequential_1\"\n",
      "_________________________________________________________________\n",
      "Layer (type)                 Output Shape              Param #   \n",
      "=================================================================\n",
      "embedding (Embedding)        (None, 17, 256)           870144    \n",
      "_________________________________________________________________\n",
      "lstm_2 (LSTM)                (None, 128)               197120    \n",
      "_________________________________________________________________\n",
      "dropout (Dropout)            (None, 128)               0         \n",
      "_________________________________________________________________\n",
      "dense_2 (Dense)              (None, 1699)              219171    \n",
      "_________________________________________________________________\n",
      "dense_3 (Dense)              (None, 3399)              5778300   \n",
      "=================================================================\n",
      "Total params: 7,064,735\n",
      "Trainable params: 7,064,735\n",
      "Non-trainable params: 0\n",
      "_________________________________________________________________\n"
     ]
    }
   ],
   "source": [
    "model = Sequential()\n",
    "\n",
    "model.add(Embedding(total_words, 256, input_length=max_sequence_len-1))  \n",
    "# вложение тренируемое для перехода от слова к его векторному коду \n",
    "# на вход вложения (эмбединга) передаем вектор словарь (длина равна словарю, вектор разреженный)),\n",
    "# на выход строим вектор из n (тут 256) координат - он плотный.\n",
    "\n",
    "model.add(LSTM(128))\n",
    "model.add(Dropout( 0.2))\n",
    "model.add(Dense(total_words/2, activation='relu', kernel_regularizer=regularizers.l2(0.01)))\n",
    "model.add(Dense(total_words, activation='softmax'))\n",
    "\n",
    "model.compile(loss='categorical_crossentropy',\n",
    "              optimizer='adam',\n",
    "              metrics=['accuracy'])\n",
    "\n",
    "model.summary()"
   ]
  },
  {
   "cell_type": "code",
   "execution_count": 51,
   "metadata": {
    "colab": {
     "base_uri": "https://localhost:8080/"
    },
    "id": "AIg2f1HBxqof",
    "outputId": "1382fdba-0404-4d5a-80c8-4a91d6eca4a4"
   },
   "outputs": [],
   "source": [
    "history = model.fit(predictors,\n",
    "                    label,\n",
    "                    epochs=50,\n",
    "                    validation_split=0.2,\n",
    "                    callbacks=[callback],\n",
    "                    verbose=0)"
   ]
  },
  {
   "cell_type": "markdown",
   "metadata": {
    "id": "qdhjEfBElNMC"
   },
   "source": [
    "Посмотрим на графики потерь и точности."
   ]
  },
  {
   "cell_type": "code",
   "execution_count": 52,
   "metadata": {
    "colab": {
     "base_uri": "https://localhost:8080/",
     "height": 545
    },
    "id": "1fXTEO3GJ282",
    "outputId": "eba82c13-55ee-4cab-afd4-a2f8a3d8bdfe"
   },
   "outputs": [
    {
     "data": {
      "image/png": "[encoded data removed]",
      "text/plain": [
       "<Figure size 1296x576 with 2 Axes>"
      ]
     },
     "metadata": {
      "needs_background": "light"
     },
     "output_type": "display_data"
    }
   ],
   "source": [
    "acc = history.history['accuracy']\n",
    "acc_v = history.history['val_accuracy']\n",
    "loss = history.history['loss']\n",
    "loss_v = history.history['val_loss']\n",
    "\n",
    "epochs = range(len(acc))\n",
    "\n",
    "fig, (ax1, ax2) = plt.subplots(1, 2, figsize=(18, 8))\n",
    "\n",
    "ax1.plot(epochs, acc, 'b', label='Train')\n",
    "ax1.plot(epochs, acc_v, 'r', label='Test')\n",
    "ax1.set_title('Accuracy', fontsize=18)\n",
    "ax1.legend(fontsize=14)\n",
    "ax1.grid()\n",
    "\n",
    "ax2.plot(epochs, loss, 'b', label='Train')\n",
    "ax2.plot(epochs, loss_v, 'r', label='Test')\n",
    "ax2.set_title('Loss', fontsize=18)\n",
    "ax2.legend(fontsize=14)\n",
    "ax2.grid()\n",
    "\n",
    "plt.show()"
   ]
  },
  {
   "cell_type": "markdown",
   "metadata": {
    "id": "RxYwdExpNgLW"
   },
   "source": [
    "Протестируем генератор."
   ]
  },
  {
   "cell_type": "code",
   "execution_count": 53,
   "metadata": {
    "colab": {
     "base_uri": "https://localhost:8080/"
    },
    "id": "6Vc6PHgxa6Hm",
    "outputId": "825da67b-46d8-44b3-8c3b-a4cdd4add1c7"
   },
   "outputs": [
    {
     "name": "stdout",
     "output_type": "stream",
     "text": [
      "[360, 69, 11, 1311, 80, 107, 841]\n",
      "[360, 69, 11, 1311, 80, 107, 841, 2]\n",
      "[360, 69, 11, 1311, 80, 107, 841, 2, 9]\n",
      "[360, 69, 11, 1311, 80, 107, 841, 2, 9, 1]\n",
      "[360, 69, 11, 1311, 80, 107, 841, 2, 9, 1, 87]\n",
      "[360, 69, 11, 1311, 80, 107, 841, 2, 9, 1, 87, 10]\n",
      "[360, 69, 11, 1311, 80, 107, 841, 2, 9, 1, 87, 10, 5]\n",
      "[360, 69, 11, 1311, 80, 107, 841, 2, 9, 1, 87, 10, 5, 32]\n",
      "[360, 69, 11, 1311, 80, 107, 841, 2, 9, 1, 87, 10, 5, 32, 32]\n",
      "[360, 69, 11, 1311, 80, 107, 841, 2, 9, 1, 87, 10, 5, 32, 32, 32]\n",
      "[360, 69, 11, 1311, 80, 107, 841, 2, 9, 1, 87, 10, 5, 32, 32, 32, 108]\n",
      "[360, 69, 11, 1311, 80, 107, 841, 2, 9, 1, 87, 10, 5, 32, 32, 32, 108, 10]\n",
      "[360, 69, 11, 1311, 80, 107, 841, 2, 9, 1, 87, 10, 5, 32, 32, 32, 108, 10, 5]\n",
      "[360, 69, 11, 1311, 80, 107, 841, 2, 9, 1, 87, 10, 5, 32, 32, 32, 108, 10, 5, 32]\n",
      "[360, 69, 11, 1311, 80, 107, 841, 2, 9, 1, 87, 10, 5, 32, 32, 32, 108, 10, 5, 32, 32]\n",
      "Help me Obi Wan Kenobi, you're my only hope ’ said the gryphon in a little little little voice in a little little little\n"
     ]
    }
   ],
   "source": [
    "# начальная строка\n",
    "seed_text = \"Help me Obi Wan Kenobi, you're my only hope\"\n",
    "next_words = 15\n",
    "\n",
    "# строим последовательность + новое предсказание  \n",
    "for _ in range(next_words):\n",
    "    # текущая последовательность (токенизация и дополнение)\n",
    "    token_list = tokenizer.texts_to_sequences([seed_text])[0]\n",
    "    print(token_list)\n",
    "    \n",
    "    token_list = pad_sequences([token_list], maxlen=max_sequence_len-1, padding='pre')\n",
    "    \n",
    "    # делаем предсказание (сразу как индекс класса - у нас 1 из 3211)\n",
    "    predicted = np.argmax(model.predict(token_list), axis=-1)\n",
    "    output_word = \"\"\n",
    "\n",
    "    # добавим новое слово в последовательность\n",
    "    for word, index in tokenizer.word_index.items():\n",
    "        if index == predicted:\n",
    "            output_word = word\n",
    "            break\n",
    "    \n",
    "    seed_text += \" \" + output_word\n",
    "print(seed_text)"
   ]
  },
  {
   "cell_type": "markdown",
   "metadata": {
    "id": "Z3frltcvNEKh"
   },
   "source": [
    "Построим график распределения вероятностей по словам."
   ]
  },
  {
   "cell_type": "code",
   "execution_count": 54,
   "metadata": {
    "id": "sblwgu02M4OA"
   },
   "outputs": [],
   "source": [
    "y_p=model.predict(token_list)"
   ]
  },
  {
   "cell_type": "code",
   "execution_count": 55,
   "metadata": {
    "colab": {
     "base_uri": "https://localhost:8080/",
     "height": 295
    },
    "id": "nG0XtgeLgkie",
    "outputId": "c255ce49-08fd-4908-a15a-0095af99793c"
   },
   "outputs": [
    {
     "data": {
      "image/png": "[encoded data removed]",
      "text/plain": [
       "<Figure size 1152x288 with 1 Axes>"
      ]
     },
     "metadata": {
      "needs_background": "light"
     },
     "output_type": "display_data"
    }
   ],
   "source": [
    "plt.figure(figsize=(16,4))\n",
    "plt.plot(y_p[0,:])\n",
    "\n",
    "plt.xlabel('Номер слова')\n",
    "plt.ylabel('Вероятность встретить слово')\n",
    "\n",
    "plt.grid()\n",
    "plt.show()"
   ]
  },
  {
   "cell_type": "code",
   "execution_count": 56,
   "metadata": {
    "colab": {
     "base_uri": "https://localhost:8080/"
    },
    "id": "ZBaCLMR-mWVg",
    "outputId": "1f807411-e3d9-487f-f202-51a68a5ced14"
   },
   "outputs": [
    {
     "data": {
      "text/plain": [
       "array([], dtype=int64)"
      ]
     },
     "execution_count": 56,
     "metadata": {},
     "output_type": "execute_result"
    }
   ],
   "source": [
    "ind_prob=np.where(y_p[0,:]>0.0410)[0]\n",
    "ind_prob"
   ]
  },
  {
   "cell_type": "code",
   "execution_count": 57,
   "metadata": {
    "colab": {
     "base_uri": "https://localhost:8080/"
    },
    "id": "rUVav3Pf0kqn",
    "outputId": "62627d6f-7049-4b58-c939-ef544a4b3ec5"
   },
   "outputs": [],
   "source": [
    "for i,ind in enumerate(ind_prob.tolist()):\n",
    "    print(tokenizer.index_word[ind], ' : ', y_p[0,ind])"
   ]
  },
  {
   "cell_type": "code",
   "execution_count": 58,
   "metadata": {
    "colab": {
     "base_uri": "https://localhost:8080/"
    },
    "id": "q8alxdYvQtCr",
    "outputId": "caa5eb2a-de19-4708-dcf3-df68b2fc53cd"
   },
   "outputs": [
    {
     "name": "stdout",
     "output_type": "stream",
     "text": [
      "[7, 31, 80, 840, 15, 65, 10]\n",
      "[7, 31, 80, 840, 15, 65, 10, 5]\n",
      "[7, 31, 80, 840, 15, 65, 10, 5, 32]\n",
      "[7, 31, 80, 840, 15, 65, 10, 5, 32, 359]\n",
      "[7, 31, 80, 840, 15, 65, 10, 5, 32, 359, 2]\n",
      "[7, 31, 80, 840, 15, 65, 10, 5, 32, 359, 2, 3]\n",
      "[7, 31, 80, 840, 15, 65, 10, 5, 32, 359, 2, 3, 12]\n",
      "[7, 31, 80, 840, 15, 65, 10, 5, 32, 359, 2, 3, 12, 77]\n",
      "[7, 31, 80, 840, 15, 65, 10, 5, 32, 359, 2, 3, 12, 77, 10]\n",
      "[7, 31, 80, 840, 15, 65, 10, 5, 32, 359, 2, 3, 12, 77, 10, 5]\n",
      "[7, 31, 80, 840, 15, 65, 10, 5, 32, 359, 2, 3, 12, 77, 10, 5, 32]\n",
      "[7, 31, 80, 840, 15, 65, 10, 5, 32, 359, 2, 3, 12, 77, 10, 5, 32, 32]\n",
      "[7, 31, 80, 840, 15, 65, 10, 5, 32, 359, 2, 3, 12, 77, 10, 5, 32, 32, 32]\n",
      "[7, 31, 80, 840, 15, 65, 10, 5, 32, 359, 2, 3, 12, 77, 10, 5, 32, 32, 32, 125]\n",
      "[7, 31, 80, 840, 15, 65, 10, 5, 32, 359, 2, 3, 12, 77, 10, 5, 32, 32, 32, 125, 3]\n",
      "She is my girl, I see in a little deal ’ and alice began in a little little little tone and alice\n"
     ]
    }
   ],
   "source": [
    "# Начальная строка\n",
    "seed_text = \"She is my girl, I see in\"\n",
    "next_words = 15\n",
    "\n",
    "# Строим последовательность плюс новое предсказание\n",
    "for _ in range(next_words):\n",
    "    \n",
    "    # текущая последовательность (токенизация и дополнение)\n",
    "    token_list = tokenizer.texts_to_sequences([seed_text])[0]\n",
    "    print(token_list)\n",
    "    \n",
    "    token_list = pad_sequences([token_list], maxlen=max_sequence_len-1, padding='pre')\n",
    "    output_word = \"\"\n",
    "    y_p=model.predict(token_list)\n",
    "    y_predict = y_p * np.random.random(  size = (1,y_p.shape[1]))\n",
    "    predicted_ind = np.argmax(y_predict,axis = 1)\n",
    "    \n",
    "    # Добавим новое слово в последовательность\n",
    "    for word, index in tokenizer.word_index.items():\n",
    "        if index == predicted_ind:\n",
    "            output_word = word\n",
    "            break\n",
    "    seed_text += \" \" + output_word\n",
    "    \n",
    "print(seed_text)"
   ]
  },
  {
   "cell_type": "markdown",
   "metadata": {},
   "source": [
    "Построим более сложную модель."
   ]
  },
  {
   "cell_type": "code",
   "execution_count": 59,
   "metadata": {},
   "outputs": [
    {
     "name": "stdout",
     "output_type": "stream",
     "text": [
      "Model: \"sequential_2\"\n",
      "_________________________________________________________________\n",
      "Layer (type)                 Output Shape              Param #   \n",
      "=================================================================\n",
      "embedding_1 (Embedding)      (None, 17, 256)           870144    \n",
      "_________________________________________________________________\n",
      "lstm_3 (LSTM)                (None, 17, 128)           197120    \n",
      "_________________________________________________________________\n",
      "lstm_4 (LSTM)                (None, 17, 64)            49408     \n",
      "_________________________________________________________________\n",
      "conv1d_1 (Conv1D)            (None, 15, 32)            6176      \n",
      "_________________________________________________________________\n",
      "conv1d_2 (Conv1D)            (None, 15, 16)            528       \n",
      "_________________________________________________________________\n",
      "dropout_1 (Dropout)          (None, 15, 16)            0         \n",
      "_________________________________________________________________\n",
      "flatten_1 (Flatten)          (None, 240)               0         \n",
      "_________________________________________________________________\n",
      "dense_4 (Dense)              (None, 1699)              409459    \n",
      "_________________________________________________________________\n",
      "dense_5 (Dense)              (None, 3399)              5778300   \n",
      "=================================================================\n",
      "Total params: 7,311,135\n",
      "Trainable params: 7,311,135\n",
      "Non-trainable params: 0\n",
      "_________________________________________________________________\n"
     ]
    }
   ],
   "source": [
    "model2 = Sequential()\n",
    "\n",
    "model2.add(Embedding(total_words, 256, input_length=max_sequence_len-1))\n",
    "\n",
    "model2.add(LSTM(128, return_sequences=\"True\"))\n",
    "model2.add(LSTM(64, return_sequences=\"True\"))\n",
    "model2.add(Conv1D(32, 3, activation=\"linear\"))\n",
    "model2.add(Conv1D(16, 1, activation=\"linear\"))\n",
    "model2.add(Dropout( 0.2))\n",
    "model2.add(Flatten())\n",
    "model2.add(Dense(total_words/2, activation='relu', kernel_regularizer=regularizers.l2(0.01)))\n",
    "model2.add(Dense(total_words, activation='softmax'))\n",
    "\n",
    "model2.compile(loss='categorical_crossentropy',\n",
    "              optimizer='adam',\n",
    "              metrics=['accuracy'])\n",
    "\n",
    "model2.summary()"
   ]
  },
  {
   "cell_type": "code",
   "execution_count": 60,
   "metadata": {
    "colab": {
     "base_uri": "https://localhost:8080/"
    },
    "id": "AIg2f1HBxqof",
    "outputId": "1382fdba-0404-4d5a-80c8-4a91d6eca4a4"
   },
   "outputs": [],
   "source": [
    "history = model2.fit(predictors,\n",
    "                    label,\n",
    "                    epochs=50,\n",
    "                    validation_split=0.2,\n",
    "                    callbacks=[callback],\n",
    "                    verbose=0)"
   ]
  },
  {
   "cell_type": "markdown",
   "metadata": {
    "id": "qdhjEfBElNMC"
   },
   "source": [
    "Визуализируем метрики"
   ]
  },
  {
   "cell_type": "code",
   "execution_count": 61,
   "metadata": {
    "colab": {
     "base_uri": "https://localhost:8080/",
     "height": 545
    },
    "id": "1fXTEO3GJ282",
    "outputId": "eba82c13-55ee-4cab-afd4-a2f8a3d8bdfe"
   },
   "outputs": [
    {
     "data": {
      "image/png": "[encoded data removed]",
      "text/plain": [
       "<Figure size 1296x576 with 2 Axes>"
      ]
     },
     "metadata": {
      "needs_background": "light"
     },
     "output_type": "display_data"
    }
   ],
   "source": [
    "acc = history.history['accuracy']\n",
    "acc_v = history.history['val_accuracy']\n",
    "loss = history.history['loss']\n",
    "loss_v = history.history['val_loss']\n",
    "\n",
    "epochs = range(len(acc))\n",
    "\n",
    "fig, (ax1, ax2) = plt.subplots(1, 2, figsize=(18, 8))\n",
    "\n",
    "ax1.plot(epochs, acc, 'b', label='Train')\n",
    "ax1.plot(epochs, acc_v, 'r', label='Test')\n",
    "ax1.set_title('Accuracy', fontsize=18)\n",
    "ax1.legend(fontsize=14)\n",
    "ax1.grid()\n",
    "\n",
    "ax2.plot(epochs, loss, 'b', label='Train')\n",
    "ax2.plot(epochs, loss_v, 'r', label='Test')\n",
    "ax2.set_title('Loss', fontsize=18)\n",
    "ax2.legend(fontsize=14)\n",
    "ax2.grid()\n",
    "\n",
    "plt.show()"
   ]
  },
  {
   "cell_type": "markdown",
   "metadata": {
    "id": "RxYwdExpNgLW"
   },
   "source": [
    "Тестируем"
   ]
  },
  {
   "cell_type": "code",
   "execution_count": 62,
   "metadata": {
    "colab": {
     "base_uri": "https://localhost:8080/"
    },
    "id": "6Vc6PHgxa6Hm",
    "outputId": "825da67b-46d8-44b3-8c3b-a4cdd4add1c7"
   },
   "outputs": [
    {
     "name": "stdout",
     "output_type": "stream",
     "text": [
      "[7, 31, 80, 840, 15, 65, 10]\n",
      "[7, 31, 80, 840, 15, 65, 10, 480]\n",
      "[7, 31, 80, 840, 15, 65, 10, 480, 3]\n",
      "[7, 31, 80, 840, 15, 65, 10, 480, 3, 342]\n",
      "[7, 31, 80, 840, 15, 65, 10, 480, 3, 342, 14]\n",
      "[7, 31, 80, 840, 15, 65, 10, 480, 3, 342, 14, 15]\n",
      "[7, 31, 80, 840, 15, 65, 10, 480, 3, 342, 14, 15, 115]\n",
      "[7, 31, 80, 840, 15, 65, 10, 480, 3, 342, 14, 15, 115, 133]\n",
      "[7, 31, 80, 840, 15, 65, 10, 480, 3, 342, 14, 15, 115, 133, 18]\n",
      "[7, 31, 80, 840, 15, 65, 10, 480, 3, 342, 14, 15, 115, 133, 18, 2]\n",
      "[7, 31, 80, 840, 15, 65, 10, 480, 3, 342, 14, 15, 115, 133, 18, 2, 1]\n",
      "[7, 31, 80, 840, 15, 65, 10, 480, 3, 342, 14, 15, 115, 133, 18, 2, 1, 118]\n",
      "[7, 31, 80, 840, 15, 65, 10, 480, 3, 342, 14, 15, 115, 133, 18, 2, 1, 118, 51]\n",
      "[7, 31, 80, 840, 15, 65, 10, 480, 3, 342, 14, 15, 115, 133, 18, 2, 1, 118, 51, 19]\n",
      "[7, 31, 80, 840, 15, 65, 10, 480, 3, 342, 14, 15, 115, 133, 18, 2, 1, 118, 51, 19, 288]\n",
      "She is my girl, I see in join and dance that i can been with ’ the mouse went at gave a\n"
     ]
    }
   ],
   "source": [
    "# начальная строка\n",
    "seed_text = \"She is my girl, I see in\"\n",
    "next_words = 15\n",
    "\n",
    "# строим последовательность + новое предсказание  \n",
    "for _ in range(next_words):\n",
    "    \n",
    "    # текущая последовательность (токенизация и дополнение)\n",
    "    token_list = tokenizer.texts_to_sequences([seed_text])[0]\n",
    "    print(token_list)\n",
    "    \n",
    "    token_list = pad_sequences([token_list], maxlen=max_sequence_len-1, padding='pre')\n",
    "    predicted = np.argmax(model2.predict(token_list), axis=-1)\n",
    "    output_word = \"\"\n",
    "    \n",
    "    # добавим новое слово в последовательность\n",
    "    for word, index in tokenizer.word_index.items():\n",
    "        if index == predicted:\n",
    "            output_word = word\n",
    "            break\n",
    "    seed_text += \" \" + output_word\n",
    "\n",
    "print(seed_text)"
   ]
  },
  {
   "cell_type": "markdown",
   "metadata": {
    "id": "Z3frltcvNEKh"
   },
   "source": [
    "Построим распределение вероятностей по словам"
   ]
  },
  {
   "cell_type": "code",
   "execution_count": 63,
   "metadata": {
    "id": "sblwgu02M4OA"
   },
   "outputs": [],
   "source": [
    "y_p=model2.predict(token_list)"
   ]
  },
  {
   "cell_type": "code",
   "execution_count": 64,
   "metadata": {
    "colab": {
     "base_uri": "https://localhost:8080/",
     "height": 295
    },
    "id": "nG0XtgeLgkie",
    "outputId": "c255ce49-08fd-4908-a15a-0095af99793c"
   },
   "outputs": [
    {
     "data": {
      "image/png": "[encoded data removed]",
      "text/plain": [
       "<Figure size 1152x288 with 1 Axes>"
      ]
     },
     "metadata": {
      "needs_background": "light"
     },
     "output_type": "display_data"
    }
   ],
   "source": [
    "plt.figure(figsize=(16,4))\n",
    "plt.plot(y_p[0,:])\n",
    "\n",
    "plt.xlabel('Номер слова')\n",
    "plt.ylabel('Вероятность встретить слово')\n",
    "\n",
    "plt.grid()\n",
    "plt.show()"
   ]
  },
  {
   "cell_type": "code",
   "execution_count": 65,
   "metadata": {
    "colab": {
     "base_uri": "https://localhost:8080/"
    },
    "id": "ZBaCLMR-mWVg",
    "outputId": "1f807411-e3d9-487f-f202-51a68a5ced14"
   },
   "outputs": [
    {
     "data": {
      "text/plain": [
       "array([ 1,  2,  5,  8, 15, 17])"
      ]
     },
     "execution_count": 65,
     "metadata": {},
     "output_type": "execute_result"
    }
   ],
   "source": [
    "ind_prob=np.where(y_p[0,:]>0.0410)[0]\n",
    "ind_prob"
   ]
  },
  {
   "cell_type": "code",
   "execution_count": 66,
   "metadata": {
    "colab": {
     "base_uri": "https://localhost:8080/"
    },
    "id": "rUVav3Pf0kqn",
    "outputId": "62627d6f-7049-4b58-c939-ef544a4b3ec5"
   },
   "outputs": [
    {
     "name": "stdout",
     "output_type": "stream",
     "text": [
      "the  :  0.10774583\n",
      "’  :  0.061057914\n",
      "a  :  0.29076418\n",
      "it  :  0.0661323\n",
      "i  :  0.050467946\n",
      "her  :  0.10190863\n"
     ]
    }
   ],
   "source": [
    "for i,ind in enumerate(ind_prob.tolist()):\n",
    "    print(tokenizer.index_word[ind], ' : ', y_p[0,ind])"
   ]
  }
 ],
 "metadata": {
  "colab": {
   "name": "metodich5.ipynb",
   "provenance": [],
   "toc_visible": true
  },
  "kernelspec": {
   "display_name": "Python 3",
   "language": "python",
   "name": "python3"
  },
  "language_info": {
   "codemirror_mode": {
    "name": "ipython",
    "version": 3
   },
   "file_extension": ".py",
   "mimetype": "text/x-python",
   "name": "python",
   "nbconvert_exporter": "python",
   "pygments_lexer": "ipython3",
   "version": "3.8.10"
  }
 },
 "nbformat": 4,
 "nbformat_minor": 4
}
